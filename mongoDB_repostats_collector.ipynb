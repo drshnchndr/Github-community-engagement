{
 "cells": [
  {
   "cell_type": "code",
   "execution_count": 1,
   "id": "f6c0d2f0-11b1-4b60-a3f8-2fa3cf7cac73",
   "metadata": {},
   "outputs": [],
   "source": [
    "import pymongo\n",
    "import requests\n",
    "import json\n",
    "import numpy as np\n",
    "import pandas as pd\n",
    "import time\n",
    "from tqdm import tqdm\n",
    "import datetime\n",
    "from credentials import client_id,client_secret"
   ]
  },
  {
   "cell_type": "code",
   "execution_count": 2,
   "id": "bcaefaef",
   "metadata": {},
   "outputs": [],
   "source": [
    "def getLinkCounts(link):\n",
    "    nexxt,last = link.split(\",\")\n",
    "    url,rel = last.split(\";\")\n",
    "    url = url.strip()\n",
    "    url = url[1:-1]\n",
    "    tmp,counts = url.split(\"&page=\")\n",
    "    return int(counts)        "
   ]
  },
  {
   "cell_type": "code",
   "execution_count": 3,
   "id": "6c3eed45-f33c-4e8a-9f76-5dee150873d3",
   "metadata": {},
   "outputs": [],
   "source": [
    "url = \"https://api.github.com/repos/tensorflow/tensorflow\"\n",
    "client_id = client_id\n",
    "client_secret = client_secret"
   ]
  },
  {
   "cell_type": "code",
   "execution_count": 4,
   "id": "e0752f83-28ac-4baf-8dc5-e09a62170bfe",
   "metadata": {},
   "outputs": [],
   "source": [
    "repo_response = requests.get(url,auth=(client_id, client_secret))"
   ]
  },
  {
   "cell_type": "code",
   "execution_count": 5,
   "id": "8e5be29f-aa29-41dd-929d-fa25f4202542",
   "metadata": {},
   "outputs": [],
   "source": [
    "mongo_client = pymongo.MongoClient(\"mongodb://127.0.0.1:27017/\")\n",
    "repodb = mongo_client[\"repo_collector\"]\n",
    "# print(myclient.list_database_names())\n",
    "tensorflow_coll = repodb[\"tf_repo\"]\n",
    "# print(mydb.list_collection_names())"
   ]
  },
  {
   "cell_type": "code",
   "execution_count": 6,
   "id": "812b9e97-611f-4f42-b3cb-1c36c9bd53c3",
   "metadata": {},
   "outputs": [],
   "source": [
    "if repo_response.status_code == 200:\n",
    "#     print(repo_response.json())\n",
    "    repo_json = repo_response.json()  \n",
    "    \n",
    "    time = datetime.datetime.now()\n",
    "    ISO_now = str(time.isoformat())\n",
    "    contributors_count = 0\n",
    "    orgmembers_count = 0\n",
    "    pulls_count = 0\n",
    "    \n",
    "    contributors_url = \"https://api.github.com/repos/tensorflow/tensorflow/contributors?per_page=1&anon=true\"\n",
    "    contributors_response = requests.get(contributors_url,auth=(client_id, client_secret))\n",
    "    if contributors_response.status_code == 200:\n",
    "        contributors_count = getLinkCounts(contributors_response.headers.get('Link'))\n",
    "#         print(contributors_count)   \n",
    "    \n",
    "    members_url = \"https://api.github.com/orgs/tensorflow/members?per_page=1\"\n",
    "    orgmembers_response = requests.get(members_url,auth=(client_id, client_secret))\n",
    "    if orgmembers_response.status_code == 200:\n",
    "        orgmembers_count = getLinkCounts(orgmembers_response.headers.get('Link'))\n",
    "#         print(orgmembers_count)   \n",
    "    \n",
    "    pulls_url = \"https://api.github.com/repos/tensorflow/tensorflow/pulls?state=open&per_page=1\"\n",
    "    pulls_response = requests.get(pulls_url,auth=(client_id, client_secret))\n",
    "    if pulls_response.status_code == 200:\n",
    "        pulls_count = getLinkCounts(pulls_response.headers.get('Link'))\n",
    "#         print(pulls_count) \n",
    "    \n",
    "    repo_add = {\"contributors_count\":contributors_count,\"orgmembers_count\":orgmembers_count,\"open_pull_requests\":pulls_count,\"time_stamp\":ISO_now}\n",
    "    \n",
    "    repo_json.update(repo_add)\n",
    "#     print(repo_json)"
   ]
  },
  {
   "cell_type": "code",
   "execution_count": 7,
   "id": "42d2744c",
   "metadata": {},
   "outputs": [
    {
     "name": "stdout",
     "output_type": "stream",
     "text": [
      "Inserted2021-07-16tensorflow repo details\n"
     ]
    }
   ],
   "source": [
    "tensorflow_coll.insert_one(repo_json)\n",
    "print(\"Inserted \"+str(datetime.date.today())+\" tensorflow repo details\")\n",
    "mongo_client.close()"
   ]
  },
  {
   "cell_type": "code",
   "execution_count": null,
   "id": "d3e5f54d",
   "metadata": {},
   "outputs": [],
   "source": []
  }
 ],
 "metadata": {
  "kernelspec": {
   "display_name": "Python 3",
   "language": "python",
   "name": "python3"
  },
  "language_info": {
   "codemirror_mode": {
    "name": "ipython",
    "version": 3
   },
   "file_extension": ".py",
   "mimetype": "text/x-python",
   "name": "python",
   "nbconvert_exporter": "python",
   "pygments_lexer": "ipython3",
   "version": "3.8.5"
  }
 },
 "nbformat": 4,
 "nbformat_minor": 5
}
