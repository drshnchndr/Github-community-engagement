{
 "cells": [
  {
   "cell_type": "code",
   "execution_count": 68,
   "id": "f6c0d2f0-11b1-4b60-a3f8-2fa3cf7cac73",
   "metadata": {},
   "outputs": [],
   "source": [
    "import pymongo\n",
    "import requests\n",
    "import json\n",
    "import numpy as np\n",
    "import pandas as pd\n",
    "import time\n",
    "from tqdm import tqdm\n",
    "from types import SimpleNamespace\n",
    "from credentials import client_id,client_secret"
   ]
  },
  {
   "cell_type": "code",
   "execution_count": 69,
   "id": "6c3eed45-f33c-4e8a-9f76-5dee150873d3",
   "metadata": {},
   "outputs": [],
   "source": [
    "url = \"https://api.github.com/repos/tensorflow/tensorflow\"\n",
    "client_id = client_id\n",
    "client_secret = client_secret"
   ]
  },
  {
   "cell_type": "code",
   "execution_count": 70,
   "id": "e0752f83-28ac-4baf-8dc5-e09a62170bfe",
   "metadata": {},
   "outputs": [],
   "source": [
    "repo_response = requests.get(url,auth=(client_id, client_secret))"
   ]
  },
  {
   "cell_type": "code",
   "execution_count": 71,
   "id": "8e5be29f-aa29-41dd-929d-fa25f4202542",
   "metadata": {},
   "outputs": [],
   "source": [
    "client = pymongo.MongoClient(\"mongodb://127.0.0.1:27017/\")\n",
    "repodb = client[\"repo_collector\"]\n",
    "# print(myclient.list_database_names())\n",
    "tensorflow_coll = repodb[\"tf_repo\"]\n",
    "# print(mydb.list_collection_names())"
   ]
  },
  {
   "cell_type": "code",
   "execution_count": 76,
   "id": "812b9e97-611f-4f42-b3cb-1c36c9bd53c3",
   "metadata": {},
   "outputs": [
    {
     "name": "stdout",
     "output_type": "stream",
     "text": [
      "{'name': 'tensorflow', 'fullname': 'tensorflow/tensorflow', 'description': 'An Open Source Machine Learning Framework for Everyone', 'created_at': '2015-11-07T01:19:20Z', 'updated_at': '2021-07-05T17:08:08Z', 'pushed_at': '2021-07-05T17:07:43Z', 'size': 727207, 'stargazers_count': 157165, 'watchers_count': 157165, 'language': 'C++', 'forks_count': 85059, 'archived': False, 'open_issues_count': 3634, 'license': {'key': 'apache-2.0', 'name': 'Apache License 2.0', 'spdx_id': 'Apache-2.0', 'url': 'https://api.github.com/licenses/apache-2.0', 'node_id': 'MDc6TGljZW5zZTI='}, 'Name': 'tensorflow', 'network_count': 85059, 'subscribers_count': 8094}\n"
     ]
    }
   ],
   "source": [
    "if repo_response.status_code == 200:\n",
    "#     print(repo_response.json())\n",
    "    repo_json = repo_response.json()  \n",
    "    \n",
    "    repo_dict = {}\n",
    "    repo_dict[\"name\"] = repo_json[\"name\"]\n",
    "    repo_dict[\"fullname\"] = repo_json[\"full_name\"]\n",
    "    repo_dict[\"description\"] = repo_json[\"description\"]\n",
    "    repo_dict[\"created_at\"] = repo_json[\"created_at\"]\n",
    "    repo_dict[\"updated_at\"] = repo_json[\"updated_at\"]\n",
    "    repo_dict[\"pushed_at\"] = repo_json[\"pushed_at\"]\n",
    "    repo_dict[\"size\"] = repo_json[\"size\"]\n",
    "    repo_dict[\"stargazers_count\"] = repo_json[\"stargazers_count\"]\n",
    "    repo_dict[\"watchers_count\"] = repo_json[\"watchers_count\"]\n",
    "    repo_dict[\"language\"] = repo_json[\"language\"]\n",
    "    repo_dict[\"forks_count\"] = repo_json[\"forks_count\"]\n",
    "    repo_dict[\"archived\"] = repo_json[\"archived\"]\n",
    "    repo_dict[\"open_issues_count\"] = repo_json[\"open_issues_count\"]\n",
    "    repo_dict[\"license\"] = repo_json[\"license\"]\n",
    "    repo_dict[\"Name\"] = repo_json[\"name\"]\n",
    "    repo_dict[\"network_count\"] = repo_json[\"network_count\"]\n",
    "    repo_dict[\"subscribers_count\"] = repo_json[\"subscribers_count\"]\n",
    "    repo_dict[\"Name\"] = repo_json[\"name\"]\n",
    "    repo_dict[\"Name\"] = repo_json[\"name\"]\n",
    "    repo_dict[\"Name\"] = repo_json[\"name\"]\n",
    "    repo_dict[\"Name\"] = repo_json[\"name\"]\n",
    "    repo_dict[\"Name\"] = repo_json[\"name\"]\n",
    "    \n",
    "    print(repo_dict)   \n",
    "#     with open('repo_json.json') as f:\n",
    "#         json_data = json_load(f)"
   ]
  },
  {
   "cell_type": "code",
   "execution_count": null,
   "id": "1d45d88a-7878-4b97-9d7e-7a4bf18fd0fa",
   "metadata": {},
   "outputs": [],
   "source": []
  }
 ],
 "metadata": {
  "kernelspec": {
   "display_name": "Python 3",
   "language": "python",
   "name": "python3"
  },
  "language_info": {
   "codemirror_mode": {
    "name": "ipython",
    "version": 3
   },
   "file_extension": ".py",
   "mimetype": "text/x-python",
   "name": "python",
   "nbconvert_exporter": "python",
   "pygments_lexer": "ipython3",
   "version": "3.8.5"
  }
 },
 "nbformat": 4,
 "nbformat_minor": 5
}
