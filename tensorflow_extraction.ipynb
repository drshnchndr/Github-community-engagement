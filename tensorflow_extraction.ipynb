{
 "cells": [
  {
   "cell_type": "code",
   "execution_count": 1,
   "metadata": {
    "id": "9z5fsGVaxN20"
   },
   "outputs": [],
   "source": [
    "import requests\n",
    "import json\n",
    "import numpy as np\n",
    "import pandas as pd\n",
    "import time\n",
    "from tqdm import tqdm\n",
    "from credentials import client_id,client_secret"
   ]
  },
  {
   "cell_type": "code",
   "execution_count": 2,
   "metadata": {},
   "outputs": [],
   "source": [
    "def cleanLinks(link):\n",
    "    links = link.split(\",\")\n",
    "#     print(links)\n",
    "    clean_links=[]\n",
    "    urls = \"\"\n",
    "    rel = \"\"\n",
    "    for i in links:\n",
    "        temp = []\n",
    "        urls,rel= i.split(\";\")\n",
    "        urls = urls.strip()\n",
    "        rel = rel.strip()\n",
    "        urls = urls[1:-1]\n",
    "        rel = rel[5:-1]\n",
    "    #     print(urls)\n",
    "    #     print(rel)\n",
    "\n",
    "        temp.append(urls)\n",
    "        temp.append(rel)\n",
    "\n",
    "        clean_links.append(temp)\n",
    "        \n",
    "    return clean_links"
   ]
  },
  {
   "cell_type": "code",
   "execution_count": 3,
   "metadata": {
    "id": "1Ek1WYeZxbPM",
    "tags": []
   },
   "outputs": [],
   "source": [
    "# url = \"https://api.github.com/repos/tensorflow/tensorflow/issues\"\n",
    "url = \"https://api.github.com/repos/tensorflow/tensorflow/issues?labels=stat:contributions welcome\"\n",
    "client_id = client_id\n",
    "client_secret = client_secret"
   ]
  },
  {
   "cell_type": "code",
   "execution_count": 4,
   "metadata": {
    "colab": {
     "base_uri": "https://localhost:8080/"
    },
    "id": "Tvo_YrRaxe__",
    "outputId": "efc933a6-5884-4cb8-ea4b-bf713fdfac98"
   },
   "outputs": [
    {
     "name": "stdout",
     "output_type": "stream",
     "text": [
      "<https://api.github.com/repositories/45717250/issues?labels=stat%3Acontributions+welcome&page=2>; rel=\"next\", <https://api.github.com/repositories/45717250/issues?labels=stat%3Acontributions+welcome&page=14>; rel=\"last\"\n",
      "4999\n"
     ]
    }
   ],
   "source": [
    "issue_response = requests.get(url,auth=(client_id, client_secret))\n",
    "print(issue_response.headers.get('Link'))\n",
    "print(issue_response.headers.get('X-RateLimit-Remaining'))"
   ]
  },
  {
   "cell_type": "code",
   "execution_count": 5,
   "metadata": {
    "colab": {
     "base_uri": "https://localhost:8080/"
    },
    "id": "I-SYYWGLxtH0",
    "outputId": "e4cd9e08-fe7a-4c1d-fcef-05c1169701c8"
   },
   "outputs": [
    {
     "name": "stdout",
     "output_type": "stream",
     "text": [
      "https://api.github.com/repositories/45717250/issues?labels=stat%3Acontributions+welcome&page=2\n",
      "https://api.github.com/repositories/45717250/issues?labels=stat%3Acontributions+welcome&page=3\n",
      "https://api.github.com/repositories/45717250/issues?labels=stat%3Acontributions+welcome&page=4\n",
      "https://api.github.com/repositories/45717250/issues?labels=stat%3Acontributions+welcome&page=5\n",
      "https://api.github.com/repositories/45717250/issues?labels=stat%3Acontributions+welcome&page=6\n",
      "https://api.github.com/repositories/45717250/issues?labels=stat%3Acontributions+welcome&page=7\n",
      "https://api.github.com/repositories/45717250/issues?labels=stat%3Acontributions+welcome&page=8\n",
      "https://api.github.com/repositories/45717250/issues?labels=stat%3Acontributions+welcome&page=9\n",
      "https://api.github.com/repositories/45717250/issues?labels=stat%3Acontributions+welcome&page=10\n",
      "https://api.github.com/repositories/45717250/issues?labels=stat%3Acontributions+welcome&page=11\n",
      "https://api.github.com/repositories/45717250/issues?labels=stat%3Acontributions+welcome&page=12\n",
      "https://api.github.com/repositories/45717250/issues?labels=stat%3Acontributions+welcome&page=13\n",
      "https://api.github.com/repositories/45717250/issues?labels=stat%3Acontributions+welcome&page=14\n",
      "10.921515703201294\n"
     ]
    }
   ],
   "source": [
    "if issue_response.headers.get('Link'):\n",
    "    link = issue_response.headers.get('Link')\n",
    "#     print(link)\n",
    "    \n",
    "    clean_links = cleanLinks(link)        \n",
    "#     print(clean_links)\n",
    "    \n",
    "    df = pd.DataFrame(clean_links, columns =['url', 'rel'])\n",
    "#     print(df)\n",
    "    start_time = time.time()\n",
    "    while \"next\" in df['rel'].values:\n",
    "#         print(\"yes\")\n",
    "        index = int(df[df['rel']=='next'].index.values)\n",
    "        print(df['url'][index])\n",
    "        url = df['url'][index]\n",
    "        issue_response = requests.get(url,auth=(client_id, client_secret))\n",
    "        link = issue_response.headers.get('Link')\n",
    "        clean_links = cleanLinks(link)\n",
    "        df = pd.DataFrame(clean_links, columns =['url', 'rel'])\n",
    "    print(time.time() - start_time)"
   ]
  },
  {
   "cell_type": "code",
   "execution_count": null,
   "metadata": {},
   "outputs": [],
   "source": []
  },
  {
   "cell_type": "code",
   "execution_count": null,
   "metadata": {},
   "outputs": [],
   "source": []
  }
 ],
 "metadata": {
  "accelerator": "GPU",
  "colab": {
   "collapsed_sections": [],
   "name": "tensorflow_extraction.ipynb",
   "provenance": []
  },
  "kernelspec": {
   "display_name": "Python 3",
   "language": "python",
   "name": "python3"
  },
  "language_info": {
   "codemirror_mode": {
    "name": "ipython",
    "version": 3
   },
   "file_extension": ".py",
   "mimetype": "text/x-python",
   "name": "python",
   "nbconvert_exporter": "python",
   "pygments_lexer": "ipython3",
   "version": "3.8.5"
  }
 },
 "nbformat": 4,
 "nbformat_minor": 4
}
