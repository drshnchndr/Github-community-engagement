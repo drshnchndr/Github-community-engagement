{
 "cells": [
  {
   "cell_type": "code",
   "execution_count": 183,
   "id": "a30d38e4-336c-4beb-9dad-cd38b37b93eb",
   "metadata": {},
   "outputs": [],
   "source": [
    "import pymongo\n",
    "import requests\n",
    "import json\n",
    "import numpy as np\n",
    "import pandas as pd\n",
    "import time\n",
    "from tqdm import tqdm\n",
    "import datetime\n",
    "from credentials import client_id,client_secret"
   ]
  },
  {
   "cell_type": "code",
   "execution_count": 184,
   "id": "07a6c189-1867-4fb7-a73d-aa23c8889e29",
   "metadata": {},
   "outputs": [],
   "source": [
    "def cleanLinks(link):\n",
    "    links = link.split(\",\")\n",
    "#     print(links)\n",
    "    clean_links=[]\n",
    "    urls = \"\"\n",
    "    rel = \"\"\n",
    "    for i in links:\n",
    "        temp = []\n",
    "        urls,rel= i.split(\";\")\n",
    "        urls = urls.strip()\n",
    "        rel = rel.strip()\n",
    "        urls = urls[1:-1]\n",
    "        rel = rel[5:-1]\n",
    "    #     print(urls)\n",
    "    #     print(rel)\n",
    "\n",
    "        temp.append(urls)\n",
    "        temp.append(rel)\n",
    "\n",
    "        clean_links.append(temp)\n",
    "        \n",
    "    return clean_links"
   ]
  },
  {
   "cell_type": "code",
   "execution_count": 185,
   "id": "b177a9a9-7c41-44e3-803a-7aa0a89cc9d4",
   "metadata": {},
   "outputs": [],
   "source": [
    "def getOrgNRepo(org_name,repo_name,coll_name):\n",
    "    OrgNRepo_client = pymongo.MongoClient(\"mongodb://127.0.0.1:27017/\")\n",
    "    repodb = OrgNRepo_client[\"repo_collector\"]\n",
    "    tf_repo = repodb[coll_name]\n",
    "    repo_details = tf_repo.find({\"full_name\":org_name+\"/\"+repo_name}).limit(1).sort(\"$natural\",-1)\n",
    "    repo_id = \"NA\"\n",
    "    org_id = \"NA\"\n",
    "    for res in repo_details:\n",
    "        repo_id = (res['id'])\n",
    "        owner = res['owner']\n",
    "        org_id = owner['id']\n",
    "    OrgNRepo_client.close()\n",
    "    return repo_id, org_id\n",
    "        "
   ]
  },
  {
   "cell_type": "code",
   "execution_count": 186,
   "id": "7cd65026-edfa-49e1-9a47-9977ca79c917",
   "metadata": {},
   "outputs": [],
   "source": [
    "def addMISCDetails(repo_id, org_id, list_details, isMember, isContributor):\n",
    "    updt_list = []\n",
    "    if isMember or isContributor:\n",
    "        add_details = {\"org_id\":org_id, \"repo_id\":repo_id, \"isMember\": isMember, \"isContributor\":isContributor}\n",
    "        for ele in list_details:\n",
    "            ele.update(add_details)\n",
    "            updt_list.append(ele)\n",
    "    else:    \n",
    "        add_details = {\"org_id\":org_id, \"repo_id\":repo_id}\n",
    "        for ele in list_details:\n",
    "            ele.update(add_details)\n",
    "            updt_list.append(ele)            \n",
    "    return updt_list"
   ]
  },
  {
   "cell_type": "code",
   "execution_count": 187,
   "id": "913248ef-7a30-4679-84fe-781d670a751e",
   "metadata": {},
   "outputs": [],
   "source": [
    "def populateToDB(url, org_name, repo_name, db_name, user):\n",
    "    \n",
    "    response = requests.get(url,auth=(client_id, client_secret))\n",
    "    print(response.headers.get('Link'))\n",
    "#     print(response.headers.get('X-RateLimit-Remaining'))\n",
    "    if int(response.headers.get('X-RateLimit-Remaining')) <= 2:\n",
    "        time.sleep(3600)\n",
    "        \n",
    "    raw_list = response.json()\n",
    "#     print(len(raw_list))\n",
    "    \n",
    "    mongo_client = pymongo.MongoClient(\"mongodb://127.0.0.1:27017/\")\n",
    "    repodb = mongo_client[\"repo_collector\"]\n",
    "    tensorflow_coll = repodb[db_name]\n",
    "    \n",
    "#     print(raw_list)\n",
    "    repo_id, org_id = getOrgNRepo(org_name,repo_name,\"tf_repo\")\n",
    "#     print(str(repo_id)+\" | \"+str(org_id))\n",
    "    isMember = isContributor = 0\n",
    "    if user == \"members\":\n",
    "        isMember = 1\n",
    "    elif user == \"contributors\":\n",
    "        isContributor = 1\n",
    "    \n",
    "    updt_list = addMISCDetails(repo_id, org_id, raw_list, isMember, isContributor)\n",
    "    #print(issue_raw_list[-1])\n",
    "    \n",
    "    tensorflow_coll.insert_many(updt_list)\n",
    "    \n",
    "    if response.headers.get('Link'):\n",
    "        link = response.headers.get('Link')\n",
    "    #     print(link)\n",
    "        clean_links = cleanLinks(link)        \n",
    "    #     print(clean_links)\n",
    "\n",
    "        df = pd.DataFrame(clean_links, columns =['url', 'rel'])\n",
    "    #     print(df)\n",
    "        start_time = time.time()\n",
    "        while \"next\" in df['rel'].values:\n",
    "    \n",
    "            index = int(df[df['rel']=='next'].index.values)\n",
    "#             print(df['url'][index])\n",
    "            url = df['url'][index]\n",
    "            response = requests.get(url,auth=(client_id, client_secret))\n",
    "            raw_list = response.json()\n",
    "            \n",
    "            updt_list = addMISCDetails(repo_id, org_id, raw_list, isMember, isContributor)\n",
    "            \n",
    "            tensorflow_coll.insert_many(updt_list)\n",
    "            \n",
    "            print(response.headers.get('X-RateLimit-Remaining'))\n",
    "            if int(response.headers.get('X-RateLimit-Remaining')) <= 2:\n",
    "                time.sleep(3600)\n",
    "            \n",
    "            link = response.headers.get('Link')\n",
    "            clean_links = cleanLinks(link)\n",
    "            df = pd.DataFrame(clean_links, columns =['url', 'rel'])\n",
    "            \n",
    "        print(time.time() - start_time)\n",
    "        \n",
    "    mongo_client.close()"
   ]
  },
  {
   "cell_type": "code",
   "execution_count": 188,
   "id": "896f9376-9ad6-4294-b6d4-a91ef52ee609",
   "metadata": {},
   "outputs": [],
   "source": [
    "org_name = \"tensorflow\"\n",
    "repo_name = \"tensorflow\""
   ]
  },
  {
   "cell_type": "code",
   "execution_count": 189,
   "id": "459cdad0-092c-46f7-97a7-649f001764fe",
   "metadata": {},
   "outputs": [],
   "source": [
    "issues_url = \"https://api.github.com/repos/\"+org_name+\"/\"+repo_name+\"/issues?state=all&per_page=100\"\n",
    "# populateToDB(issues_url, org_name, repo_name, \"repo_issues\", \"NA\")"
   ]
  },
  {
   "cell_type": "code",
   "execution_count": 190,
   "id": "7e1cb884-079a-477a-802e-5f816791bfc8",
   "metadata": {},
   "outputs": [],
   "source": [
    "forks_url = \"https://api.github.com/repos/\"+org_name+\"/\"+repo_name+\"/forks?per_page=100\"\n",
    "# populateToDB(forks_url, org_name, repo_name, \"repo_forks\", \"NA\")"
   ]
  },
  {
   "cell_type": "code",
   "execution_count": 191,
   "id": "24c23d4f-bd79-4453-ba0d-6345e855a110",
   "metadata": {},
   "outputs": [],
   "source": [
    "releases_url = \"https://api.github.com/repos/\"+org_name+\"/\"+repo_name+\"/releases?per_page=100\"\n",
    "# populateToDB(releases_url, org_name, repo_name, \"repo_releases\", \"NA\")"
   ]
  },
  {
   "cell_type": "code",
   "execution_count": 192,
   "id": "25d0477c-7388-40aa-924c-2064ca83a1e5",
   "metadata": {},
   "outputs": [],
   "source": [
    "pulls_url = \"https://api.github.com/repos/\"+org_name+\"/\"+repo_name+\"/pulls?per_page=100\"\n",
    "# populateToDB(pulls_url, org_name, repo_name, \"repo_pulls\", \"NA\")"
   ]
  },
  {
   "cell_type": "code",
   "execution_count": 193,
   "id": "266ab03a-02f3-4f20-a16b-665806e3dc24",
   "metadata": {},
   "outputs": [],
   "source": [
    "members_url = \"https://api.github.com/orgs/\"+org_name+\"/members?per_page=100\"\n",
    "# populateToDB(members_url, org_name, repo_name, \"repo_users\", \"members\")"
   ]
  },
  {
   "cell_type": "code",
   "execution_count": 194,
   "id": "b16ef932-d7ef-4fa6-b8a2-8bcd1a049cfa",
   "metadata": {},
   "outputs": [],
   "source": [
    "contributors_url = \"https://api.github.com/repos/\"+org_name+\"/\"+repo_name+\"/contributors?per_page=100&anon=true\"\n",
    "# populateToDB(contributors_url, org_name, repo_name, \"repo_users\", \"contributors\")"
   ]
  },
  {
   "cell_type": "code",
   "execution_count": 195,
   "id": "9a40b7d2-c862-4ca1-bae7-31877dd55d18",
   "metadata": {},
   "outputs": [],
   "source": [
    "labels_url = \"https://api.github.com/repos/\"+org_name+\"/\"+repo_name+\"/labels?per_page=100\"\n",
    "# populateToDB(labels_url, org_name, repo_name, \"repo_labels\", \"NA\")"
   ]
  },
  {
   "cell_type": "code",
   "execution_count": null,
   "id": "31f517fa-b0d0-4139-85bb-b2067bfacbff",
   "metadata": {},
   "outputs": [],
   "source": []
  }
 ],
 "metadata": {
  "kernelspec": {
   "display_name": "Python 3",
   "language": "python",
   "name": "python3"
  },
  "language_info": {
   "codemirror_mode": {
    "name": "ipython",
    "version": 3
   },
   "file_extension": ".py",
   "mimetype": "text/x-python",
   "name": "python",
   "nbconvert_exporter": "python",
   "pygments_lexer": "ipython3",
   "version": "3.8.5"
  }
 },
 "nbformat": 4,
 "nbformat_minor": 5
}
