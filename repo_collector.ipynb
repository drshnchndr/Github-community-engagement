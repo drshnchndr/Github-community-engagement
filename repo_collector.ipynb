{
 "cells": [
  {
   "cell_type": "code",
   "execution_count": 1,
   "id": "a30d38e4-336c-4beb-9dad-cd38b37b93eb",
   "metadata": {},
   "outputs": [],
   "source": [
    "import pymongo\n",
    "import requests\n",
    "import json\n",
    "import numpy as np\n",
    "import pandas as pd\n",
    "import time\n",
    "from tqdm import tqdm\n",
    "import datetime\n",
    "from credentials import client_id,client_secret"
   ]
  },
  {
   "cell_type": "code",
   "execution_count": 2,
   "id": "07a6c189-1867-4fb7-a73d-aa23c8889e29",
   "metadata": {},
   "outputs": [],
   "source": [
    "def cleanLinks(link):\n",
    "    links = link.split(\",\")\n",
    "#     print(links)\n",
    "    clean_links=[]\n",
    "    urls = \"\"\n",
    "    rel = \"\"\n",
    "    for i in links:\n",
    "        temp = []\n",
    "        urls,rel= i.split(\";\")\n",
    "        urls = urls.strip()\n",
    "        rel = rel.strip()\n",
    "        urls = urls[1:-1]\n",
    "        rel = rel[5:-1]\n",
    "    #     print(urls)\n",
    "    #     print(rel)\n",
    "\n",
    "        temp.append(urls)\n",
    "        temp.append(rel)\n",
    "\n",
    "        clean_links.append(temp)\n",
    "        \n",
    "    return clean_links"
   ]
  },
  {
   "cell_type": "code",
   "execution_count": 3,
   "id": "b177a9a9-7c41-44e3-803a-7aa0a89cc9d4",
   "metadata": {},
   "outputs": [],
   "source": [
    "def getOrgNRepo(org_name,repo_name,coll_name):\n",
    "    OrgNRepo_client = pymongo.MongoClient(\"mongodb://127.0.0.1:27017/\")\n",
    "    repodb = OrgNRepo_client[\"repo_collector\"]\n",
    "    tf_repo = repodb[coll_name]\n",
    "    repo_details = tf_repo.find({\"full_name\":org_name+\"/\"+repo_name}).limit(1).sort(\"$natural\",-1)\n",
    "    repo_id = \"NA\"\n",
    "    org_id = \"NA\"\n",
    "    for res in repo_details:\n",
    "        repo_id = (res['id'])\n",
    "        owner = res['owner']\n",
    "        org_id = owner['id']\n",
    "    OrgNRepo_client.close()\n",
    "    return repo_id, org_id\n",
    "        "
   ]
  },
  {
   "cell_type": "code",
   "execution_count": 4,
   "id": "7cd65026-edfa-49e1-9a47-9977ca79c917",
   "metadata": {},
   "outputs": [],
   "source": [
    "def addMISCDetails(repo_id, org_id, list_details, isMember, isContributor):\n",
    "    updt_list = []\n",
    "    if isMember or isContributor:\n",
    "        add_details = {\"org_id\":org_id, \"repo_id\":repo_id, \"isMember\": isMember, \"isContributor\":isContributor}\n",
    "        for ele in list_details:\n",
    "            ele.update(add_details)\n",
    "            updt_list.append(ele)\n",
    "    else:    \n",
    "        add_details = {\"org_id\":org_id, \"repo_id\":repo_id}\n",
    "        for ele in list_details:\n",
    "            ele.update(add_details)\n",
    "            updt_list.append(ele)            \n",
    "    return updt_list"
   ]
  },
  {
   "cell_type": "code",
   "execution_count": 5,
   "id": "e77e60d2-7e6e-4d6a-9964-35ded5ffd68c",
   "metadata": {},
   "outputs": [],
   "source": [
    "def renameCollections(old_name, new_name):\n",
    "    mongo_client = pymongo.MongoClient(\"mongodb://127.0.0.1:27017/\")\n",
    "    repodb = mongo_client[\"repo_collector\"]\n",
    "    if old_name in repodb.list_collection_names():\n",
    "        repo_coll = repodb[old_name]\n",
    "\n",
    "        if new_name in repodb.list_collection_names():\n",
    "            drop_coll = repodb[new_name]\n",
    "            drop_coll.drop()\n",
    "\n",
    "        repo_coll.rename(new_name)\n",
    "    mongo_client.close()"
   ]
  },
  {
   "cell_type": "code",
   "execution_count": 6,
   "id": "913248ef-7a30-4679-84fe-781d670a751e",
   "metadata": {},
   "outputs": [],
   "source": [
    "def populateToDB(url, org_name, repo_name, db_name, user):\n",
    "    \n",
    "    response = requests.get(url,auth=(client_id, client_secret))\n",
    "    print(\"GitHub Rest API rate limit remaining: \"+str(response.headers.get('X-RateLimit-Remaining')))\n",
    "        \n",
    "    if response.json():       \n",
    "        raw_list = response.json()\n",
    "    #     print(len(raw_list))\n",
    "\n",
    "        mongo_client = pymongo.MongoClient(\"mongodb://127.0.0.1:27017/\")\n",
    "        repodb = mongo_client[\"repo_collector\"]\n",
    "        repo_coll = repodb[db_name]\n",
    "\n",
    "    #     print(raw_list)\n",
    "        repo_id, org_id = getOrgNRepo(org_name,repo_name,\"tf_repo\")\n",
    "    #     print(str(repo_id)+\" | \"+str(org_id))\n",
    "        isMember = isContributor = 0\n",
    "        if user == \"members\":\n",
    "            isMember = 1\n",
    "        elif user == \"contributors\":\n",
    "            isContributor = 1\n",
    "\n",
    "        updt_list = addMISCDetails(repo_id, org_id, raw_list, isMember, isContributor)\n",
    "        #print(issue_raw_list[-1])\n",
    "\n",
    "        repo_coll.insert_many(updt_list)\n",
    "        print(\"Inserted rows to \"+db_name)\n",
    "\n",
    "        if response.headers.get('Link'):\n",
    "            print(response.headers.get('Link'))\n",
    "            link = response.headers.get('Link')\n",
    "        #     print(link)\n",
    "            clean_links = cleanLinks(link)        \n",
    "        #     print(clean_links)\n",
    "\n",
    "            df = pd.DataFrame(clean_links, columns =['url', 'rel'])\n",
    "        #     print(df)\n",
    "            if int(response.headers.get('X-RateLimit-Remaining')) <= 2:\n",
    "                print(\"Please wait for 30 minutes..............\")\n",
    "                time.sleep(60*30)\n",
    "            \n",
    "            while \"next\" in df['rel'].values:\n",
    "\n",
    "                index = int(df[df['rel']=='next'].index.values)\n",
    "                print(df['url'][index])\n",
    "                \n",
    "                url = df['url'][index]\n",
    "                response = requests.get(url,auth=(client_id, client_secret))\n",
    "                print(\"GitHub Rest API rate limit remaining: \"+str(response.headers.get('X-RateLimit-Remaining')))\n",
    "                raw_list = response.json()\n",
    "\n",
    "                updt_list = addMISCDetails(repo_id, org_id, raw_list, isMember, isContributor)\n",
    "\n",
    "                repo_coll.insert_many(updt_list)\n",
    "                print(\"Inserted rows to \"+db_name)\n",
    "                \n",
    "                link = response.headers.get('Link')\n",
    "                clean_links = cleanLinks(link)\n",
    "                df = pd.DataFrame(clean_links, columns =['url', 'rel'])\n",
    "                \n",
    "                if int(response.headers.get('X-RateLimit-Remaining')) <= 2:\n",
    "                    print(\"Please wait for 30 minutes..............\")\n",
    "                    time.sleep(60*30)\n",
    "\n",
    "        mongo_client.close()\n",
    "    print(\"Inserting data into \"+db_name+\" is done.\")"
   ]
  },
  {
   "cell_type": "code",
   "execution_count": 9,
   "id": "896f9376-9ad6-4294-b6d4-a91ef52ee609",
   "metadata": {},
   "outputs": [],
   "source": [
    "org_name = \"tensorflow\"\n",
    "repo_name = \"tensorflow\""
   ]
  },
  {
   "cell_type": "code",
   "execution_count": 10,
   "id": "459cdad0-092c-46f7-97a7-649f001764fe",
   "metadata": {},
   "outputs": [
    {
     "name": "stdout",
     "output_type": "stream",
     "text": [
      "GitHub Rest API rate limit remaining: 4719\n",
      "Inserted rows to repo_issuesV1.1\n",
      "Inserting data into repo_issuesV1.1 is done.\n"
     ]
    }
   ],
   "source": [
    "renameCollections(\"repo_issuesV1.1\", \"repo_issues\")\n",
    "issues_url = \"https://api.github.com/repos/\"+org_name+\"/\"+repo_name+\"/issues?labels=stalled&per_page=100\"\n",
    "populateToDB(issues_url, org_name, repo_name, \"repo_issuesV1.1\", \"NA\")"
   ]
  },
  {
   "cell_type": "code",
   "execution_count": 39,
   "id": "7e1cb884-079a-477a-802e-5f816791bfc8",
   "metadata": {},
   "outputs": [],
   "source": [
    "renameCollections(\"repo_forksV1.1\", \"repo_forks\")\n",
    "forks_url = \"https://api.github.com/repos/\"+org_name+\"/\"+repo_name+\"/forks?per_page=100\"\n",
    "# populateToDB(forks_url, org_name, repo_name, \"repo_forksV1.1\", \"NA\")"
   ]
  },
  {
   "cell_type": "code",
   "execution_count": 40,
   "id": "24c23d4f-bd79-4453-ba0d-6345e855a110",
   "metadata": {},
   "outputs": [],
   "source": [
    "renameCollections(\"repo_releasesV1.1\", \"repo_releases\")\n",
    "releases_url = \"https://api.github.com/repos/\"+org_name+\"/\"+repo_name+\"/releases?per_page=100\"\n",
    "# populateToDB(releases_url, org_name, repo_name, \"repo_releasesV1.1\", \"NA\")"
   ]
  },
  {
   "cell_type": "code",
   "execution_count": 41,
   "id": "25d0477c-7388-40aa-924c-2064ca83a1e5",
   "metadata": {},
   "outputs": [],
   "source": [
    "renameCollections(\"repo_pullsV1.1\", \"repo_pulls\")\n",
    "pulls_url = \"https://api.github.com/repos/\"+org_name+\"/\"+repo_name+\"/pulls?per_page=100\"\n",
    "# populateToDB(pulls_url, org_name, repo_name, \"repo_pullsV1.1\", \"NA\")"
   ]
  },
  {
   "cell_type": "code",
   "execution_count": 42,
   "id": "266ab03a-02f3-4f20-a16b-665806e3dc24",
   "metadata": {},
   "outputs": [],
   "source": [
    "renameCollections(\"repo_usersV1.1\", \"repo_users\")\n",
    "members_url = \"https://api.github.com/orgs/\"+org_name+\"/members?per_page=100\"\n",
    "# populateToDB(members_url, org_name, repo_name, \"repo_usersV1.1\", \"members\")"
   ]
  },
  {
   "cell_type": "code",
   "execution_count": 43,
   "id": "b16ef932-d7ef-4fa6-b8a2-8bcd1a049cfa",
   "metadata": {},
   "outputs": [],
   "source": [
    "contributors_url = \"https://api.github.com/repos/\"+org_name+\"/\"+repo_name+\"/contributors?per_page=100&anon=true\"\n",
    "# populateToDB(contributors_url, org_name, repo_name, \"repo_usersV1.1\", \"contributors\")"
   ]
  },
  {
   "cell_type": "code",
   "execution_count": 44,
   "id": "9a40b7d2-c862-4ca1-bae7-31877dd55d18",
   "metadata": {},
   "outputs": [],
   "source": [
    "renameCollections(\"repo_labelsV1.1\", \"repo_labels\")\n",
    "labels_url = \"https://api.github.com/repos/\"+org_name+\"/\"+repo_name+\"/labels?per_page=100\"\n",
    "# populateToDB(labels_url, org_name, repo_name, \"repo_labelsV1.1\", \"NA\")"
   ]
  },
  {
   "cell_type": "code",
   "execution_count": null,
   "id": "5ddab09a-6ef4-4ef0-b301-dc20135edb8f",
   "metadata": {},
   "outputs": [],
   "source": []
  }
 ],
 "metadata": {
  "kernelspec": {
   "display_name": "Python 3",
   "language": "python",
   "name": "python3"
  },
  "language_info": {
   "codemirror_mode": {
    "name": "ipython",
    "version": 3
   },
   "file_extension": ".py",
   "mimetype": "text/x-python",
   "name": "python",
   "nbconvert_exporter": "python",
   "pygments_lexer": "ipython3",
   "version": "3.8.5"
  }
 },
 "nbformat": 4,
 "nbformat_minor": 5
}
