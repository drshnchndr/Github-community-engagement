{
 "cells": [
  {
   "cell_type": "code",
   "execution_count": 2,
   "id": "926fe93b-1da6-408e-839a-1a0328c1c0ec",
   "metadata": {},
   "outputs": [],
   "source": [
    "consumer_key = t_API_Key\n",
    "consumer_secret = t_API_secret_key\n",
    "access_token = t_Access_token\n",
    "access_token_secret = t_Access_token_secret"
   ]
  },
  {
   "cell_type": "code",
   "execution_count": 3,
   "id": "5cd5f96c-fc36-4025-bacf-41b286f515cf",
   "metadata": {},
   "outputs": [],
   "source": [
    "auth = tw.OAuthHandler(consumer_key, consumer_secret)\n",
    "auth.set_access_token(access_token, access_token_secret)\n",
    "api = tw.API(auth, wait_on_rate_limit=True)\n"
   ]
  },
  {
   "cell_type": "code",
   "execution_count": 19,
   "id": "f2256198-8dfa-4fea-a6e2-23a3a58d8292",
   "metadata": {},
   "outputs": [],
   "source": [
    "search_words = \"#tensorflow\"\n",
    "date_since = \"2021-05-26\"\n",
    "date_until = \"2021-05-27\""
   ]
  },
  {
   "cell_type": "code",
   "execution_count": 20,
   "id": "3e5f7c6f-1a73-42ec-9ebc-252b880e8a54",
   "metadata": {},
   "outputs": [],
   "source": [
    "# tweets = tw.Cursor(api.search,\n",
    "#               q=search_words,\n",
    "#               lang=\"en\",\n",
    "#               since=date_since).items()"
   ]
  },
  {
   "cell_type": "code",
   "execution_count": 23,
   "id": "71238daf-29f3-4013-a0f1-a1ce8bdbcf86",
   "metadata": {},
   "outputs": [],
   "source": [
    "tweets = tw.Cursor(api.search,\n",
    "                   q=search_words,\n",
    "                   lang=\"en\",\n",
    "                   since=date_since,\n",
    "                   until=date_until\n",
    "                   ).items(10)"
   ]
  },
  {
   "cell_type": "code",
   "execution_count": 24,
   "id": "22f93b4e-b0bd-4d57-af0a-458094586154",
   "metadata": {},
   "outputs": [
    {
     "name": "stdout",
     "output_type": "stream",
     "text": [
      "[]\n"
     ]
    }
   ],
   "source": [
    "a=[]\n",
    "for tweet in tweets:\n",
    "    print(tweet.created_at)\n",
    "    print(tweet.text)\n",
    "    a.append(tweet.text)\n",
    "\n",
    "print(a)\n"
   ]
  },
  {
   "cell_type": "code",
   "execution_count": null,
   "id": "2d66dd1a-4696-4ccf-a277-d4fac929fa60",
   "metadata": {},
   "outputs": [],
   "source": []
  }
 ],
 "metadata": {
  "kernelspec": {
   "display_name": "Python 3",
   "language": "python",
   "name": "python3"
  },
  "language_info": {
   "codemirror_mode": {
    "name": "ipython",
    "version": 3
   },
   "file_extension": ".py",
   "mimetype": "text/x-python",
   "name": "python",
   "nbconvert_exporter": "python",
   "pygments_lexer": "ipython3",
   "version": "3.8.5"
  }
 },
 "nbformat": 4,
 "nbformat_minor": 5
}
