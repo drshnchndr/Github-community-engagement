{
 "cells": [
  {
   "cell_type": "code",
   "execution_count": 4,
   "id": "57026621-3b48-4a55-96ff-765bea8a3c8a",
   "metadata": {},
   "outputs": [],
   "source": [
    "from credentials import t_API_Key, t_API_secret_key, t_Access_token, t_Access_token_secret\n",
    "import pymongo\n",
    "import requests\n",
    "import json\n",
    "import numpy as np\n",
    "import pandas as pd\n",
    "import tweepy as tw\n",
    "import datetime"
   ]
  },
  {
   "cell_type": "code",
   "execution_count": 92,
   "id": "926fe93b-1da6-408e-839a-1a0328c1c0ec",
   "metadata": {},
   "outputs": [],
   "source": [
    "consumer_key = t_API_Key\n",
    "consumer_secret = t_API_secret_key\n",
    "access_token = t_Access_token\n",
    "access_token_secret = t_Access_token_secret"
   ]
  },
  {
   "cell_type": "code",
   "execution_count": 93,
   "id": "5cd5f96c-fc36-4025-bacf-41b286f515cf",
   "metadata": {},
   "outputs": [],
   "source": [
    "auth = tw.OAuthHandler(consumer_key, consumer_secret)\n",
    "auth.set_access_token(access_token, access_token_secret)\n",
    "api = tw.API(auth, wait_on_rate_limit=True, wait_on_rate_limit_notify=True)"
   ]
  },
  {
   "cell_type": "code",
   "execution_count": 95,
   "id": "f2256198-8dfa-4fea-a6e2-23a3a58d8292",
   "metadata": {},
   "outputs": [
    {
     "name": "stdout",
     "output_type": "stream",
     "text": [
      "2021-07-15\n"
     ]
    }
   ],
   "source": [
    "search_words = \"#tensorflow\"\n",
    "today = datetime.date.today()\n",
    "yesterday = today - datetime.timedelta(days=1)\n",
    "date_since = yesterday"
   ]
  },
  {
   "cell_type": "code",
   "execution_count": 86,
   "id": "71238daf-29f3-4013-a0f1-a1ce8bdbcf86",
   "metadata": {},
   "outputs": [],
   "source": [
    "tweets = tw.Cursor(api.search,\n",
    "                   q=search_words,\n",
    "                   lang=\"en\",\n",
    "                   tweet_mode=\"extended\",\n",
    "                   since=date_since,\n",
    "                   ).items(3)"
   ]
  },
  {
   "cell_type": "code",
   "execution_count": 87,
   "id": "3bd5e2bf-41fc-4bf0-ab76-98eb3b7ea377",
   "metadata": {},
   "outputs": [],
   "source": [
    "mongo_client = pymongo.MongoClient(\"mongodb://127.0.0.1:27017/\")\n",
    "repodb = mongo_client[\"repo_collectorV1_1\"]\n",
    "tensorflow_twitter_coll = repodb[\"tf_twitter\"]"
   ]
  },
  {
   "cell_type": "code",
   "execution_count": 88,
   "id": "22f93b4e-b0bd-4d57-af0a-458094586154",
   "metadata": {},
   "outputs": [
    {
     "name": "stdout",
     "output_type": "stream",
     "text": [
      "Inserted twitter 1415768986969677824 to tf_twitter\n",
      "Inserted twitter 1415768959358472198 to tf_twitter\n",
      "Inserted twitter 1415768945391460352 to tf_twitter\n"
     ]
    }
   ],
   "source": [
    "for tweet in tweets:\n",
    "    tensorflow_twitter_coll.insert_one(tweet._json)\n",
    "    print(\"Inserted twitter \"+str(tweet.id)+\" to tf_twitter\")"
   ]
  },
  {
   "cell_type": "code",
   "execution_count": 89,
   "id": "f5a12ceb-a395-43cc-a1f9-cde453adf3e8",
   "metadata": {},
   "outputs": [],
   "source": [
    "mongo_client.close()"
   ]
  },
  {
   "cell_type": "code",
   "execution_count": null,
   "id": "66e28e6b-2bc3-4f90-8d5b-8ebb46cbf8e2",
   "metadata": {},
   "outputs": [],
   "source": []
  }
 ],
 "metadata": {
  "kernelspec": {
   "display_name": "Python 3",
   "language": "python",
   "name": "python3"
  },
  "language_info": {
   "codemirror_mode": {
    "name": "ipython",
    "version": 3
   },
   "file_extension": ".py",
   "mimetype": "text/x-python",
   "name": "python",
   "nbconvert_exporter": "python",
   "pygments_lexer": "ipython3",
   "version": "3.9.6"
  }
 },
 "nbformat": 4,
 "nbformat_minor": 5
}
