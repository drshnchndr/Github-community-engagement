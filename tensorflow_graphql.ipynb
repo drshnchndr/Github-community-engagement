{
 "metadata": {
  "language_info": {
   "codemirror_mode": {
    "name": "ipython",
    "version": 3
   },
   "file_extension": ".py",
   "mimetype": "text/x-python",
   "name": "python",
   "nbconvert_exporter": "python",
   "pygments_lexer": "ipython3",
   "version": "3.8.5"
  },
  "orig_nbformat": 2,
  "kernelspec": {
   "name": "python385jvsc74a57bd0ef8446e9bb2325691b65308fbbc16efb07b16e5a3c0d5676fcf513a50afe17e3",
   "display_name": "Python 3.8.5 32-bit"
  }
 },
 "nbformat": 4,
 "nbformat_minor": 2,
 "cells": [
  {
   "cell_type": "code",
   "execution_count": 1,
   "metadata": {},
   "outputs": [
    {
     "output_type": "stream",
     "name": "stdout",
     "text": [
      "{'data': {'repository': {'issue': {'comments': {'totalCount': 27}}}}}\n"
     ]
    }
   ],
   "source": [
    "# An example to get the remaining rate limit using the Github GraphQL API.\n",
    "\n",
    "import requests\n",
    "from credentials import personal_access\n",
    "\n",
    "headers = personal_access\n",
    "\n",
    "\n",
    "def run_query(query): # A simple function to use requests.post to make the API call. Note the json= section.\n",
    "    request = requests.post('https://api.github.com/graphql', json={'query': query}, headers=headers)\n",
    "    if request.status_code == 200:\n",
    "        return request.json()\n",
    "    else:\n",
    "        raise Exception(\"Query failed to run by returning code of {}. {}\".format(request.status_code, query))\n",
    "\n",
    "        \n",
    "# The GraphQL query (with a few aditional bits included) itself defined as a multi-line string.       \n",
    "query = \"\"\"\n",
    "{\n",
    "  repository(owner: \"tensorflow\", name: \"tensorflow\") {\n",
    "    issue(number: 29039){\n",
    "        comments {\n",
    "          totalCount\n",
    "\t\t\t}\n",
    "\t\t}\n",
    "\t}\n",
    " }\n",
    "\"\"\"\n",
    "\n",
    "result = run_query(query) # Execute the query\n",
    "print(result)"
   ]
  },
  {
   "cell_type": "code",
   "execution_count": null,
   "metadata": {},
   "outputs": [],
   "source": []
  }
 ]
}